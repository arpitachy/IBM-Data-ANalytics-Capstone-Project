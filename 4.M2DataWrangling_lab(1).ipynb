{
  "cells": [
    {
      "cell_type": "markdown",
      "metadata": {
        "id": "HmUcUzpTcjG2"
      },
      "source": [
        "<p style=\"text-align:center\">\n",
        "    <a href=\"https://skills.network/?utm_medium=Exinfluencer&utm_source=Exinfluencer&utm_content=000026UJ&utm_term=10006555&utm_id=NA-SkillsNetwork-Channel-SkillsNetworkCoursesIBMDA0321ENSkillsNetwork928-2022-01-01\" target=\"_blank\">\n",
        "    <img src=\"https://cf-courses-data.s3.us.cloud-object-storage.appdomain.cloud/assets/logos/SN_web_lightmode.png\" width=\"200\" alt=\"Skills Network Logo\"  />\n",
        "    </a>\n",
        "</p>\n"
      ]
    },
    {
      "cell_type": "markdown",
      "metadata": {
        "id": "zdJASIJOcjG4"
      },
      "source": [
        "# **Data Wrangling Lab**\n"
      ]
    },
    {
      "cell_type": "markdown",
      "metadata": {
        "id": "XRaDy3focjG4"
      },
      "source": [
        "Estimated time needed: **45 to 60** minutes\n"
      ]
    },
    {
      "cell_type": "markdown",
      "metadata": {
        "id": "sLi8VgaucjG5"
      },
      "source": [
        "In this assignment you will be performing data wrangling.\n"
      ]
    },
    {
      "cell_type": "markdown",
      "metadata": {
        "id": "cai22C68cjG5"
      },
      "source": [
        "## Objectives\n"
      ]
    },
    {
      "cell_type": "markdown",
      "metadata": {
        "id": "sqi-CZkXcjG6"
      },
      "source": [
        "In this lab you will perform the following:\n"
      ]
    },
    {
      "cell_type": "markdown",
      "metadata": {
        "id": "6sqgv-yOcjG6"
      },
      "source": [
        "-   Identify duplicate values in the dataset.\n",
        "\n",
        "-   Remove duplicate values from the dataset.\n",
        "\n",
        "-   Identify missing values in the dataset.\n",
        "\n",
        "-   Impute the missing values in the dataset.\n",
        "\n",
        "-   Normalize data in the dataset.\n"
      ]
    },
    {
      "cell_type": "markdown",
      "metadata": {
        "id": "BEnW039OcjG7"
      },
      "source": [
        "<hr>\n"
      ]
    },
    {
      "cell_type": "markdown",
      "metadata": {
        "id": "zQPqglU9cjG8"
      },
      "source": [
        "## Hands on Lab\n"
      ]
    },
    {
      "cell_type": "markdown",
      "metadata": {
        "id": "mFe8GOJ9cjG8"
      },
      "source": [
        "Import pandas module.\n"
      ]
    },
    {
      "cell_type": "code",
      "execution_count": 1,
      "metadata": {
        "id": "147BrCzgcjG9"
      },
      "outputs": [],
      "source": [
        "import pandas as pd"
      ]
    },
    {
      "cell_type": "markdown",
      "metadata": {
        "id": "aGEeV8sncjG9"
      },
      "source": [
        "Load the dataset into a dataframe.\n"
      ]
    },
    {
      "cell_type": "code",
      "execution_count": 3,
      "metadata": {
        "colab": {
          "base_uri": "https://localhost:8080/",
          "height": 1000
        },
        "id": "jygz7_fjcjG-",
        "outputId": "35701860-a5b6-4bc0-d326-6ef23691da0e"
      },
      "outputs": [
        {
          "output_type": "execute_result",
          "data": {
            "text/plain": [
              "   Respondent                                         MainBranch Hobbyist  \\\n",
              "0           4                     I am a developer by profession       No   \n",
              "1           9                     I am a developer by profession      Yes   \n",
              "2          13                     I am a developer by profession      Yes   \n",
              "3          16                     I am a developer by profession      Yes   \n",
              "4          17                     I am a developer by profession      Yes   \n",
              "5          19                     I am a developer by profession      Yes   \n",
              "6          20  I am not primarily a developer, but I write co...       No   \n",
              "7          22                     I am a developer by profession      Yes   \n",
              "8          23                     I am a developer by profession      Yes   \n",
              "9          24                     I am a developer by profession      Yes   \n",
              "\n",
              "                                         OpenSourcer  \\\n",
              "0                                              Never   \n",
              "1                         Once a month or more often   \n",
              "2  Less than once a month but more than once per ...   \n",
              "3                                              Never   \n",
              "4  Less than once a month but more than once per ...   \n",
              "5                                              Never   \n",
              "6                                              Never   \n",
              "7                            Less than once per year   \n",
              "8                            Less than once per year   \n",
              "9                                              Never   \n",
              "\n",
              "                                          OpenSource          Employment  \\\n",
              "0  The quality of OSS and closed source software ...  Employed full-time   \n",
              "1  The quality of OSS and closed source software ...  Employed full-time   \n",
              "2  OSS is, on average, of HIGHER quality than pro...  Employed full-time   \n",
              "3  The quality of OSS and closed source software ...  Employed full-time   \n",
              "4  The quality of OSS and closed source software ...  Employed full-time   \n",
              "5  The quality of OSS and closed source software ...  Employed full-time   \n",
              "6  OSS is, on average, of HIGHER quality than pro...  Employed full-time   \n",
              "7  OSS is, on average, of HIGHER quality than pro...  Employed full-time   \n",
              "8  The quality of OSS and closed source software ...  Employed full-time   \n",
              "9  OSS is, on average, of HIGHER quality than pro...  Employed full-time   \n",
              "\n",
              "          Country Student                                            EdLevel  \\\n",
              "0   United States      No           Bachelor’s degree (BA, BS, B.Eng., etc.)   \n",
              "1     New Zealand      No  Some college/university study without earning ...   \n",
              "2   United States      No        Master’s degree (MA, MS, M.Eng., MBA, etc.)   \n",
              "3  United Kingdom      No        Master’s degree (MA, MS, M.Eng., MBA, etc.)   \n",
              "4       Australia      No           Bachelor’s degree (BA, BS, B.Eng., etc.)   \n",
              "5          Brazil      No  Some college/university study without earning ...   \n",
              "6       Lithuania      No        Master’s degree (MA, MS, M.Eng., MBA, etc.)   \n",
              "7   United States      No  Some college/university study without earning ...   \n",
              "8   United States      No           Bachelor’s degree (BA, BS, B.Eng., etc.)   \n",
              "9          Israel      No                          Primary/elementary school   \n",
              "\n",
              "                                      UndergradMajor  ...  \\\n",
              "0  Computer science, computer engineering, or sof...  ...   \n",
              "1  Computer science, computer engineering, or sof...  ...   \n",
              "2  Computer science, computer engineering, or sof...  ...   \n",
              "3                                                NaN  ...   \n",
              "4  Computer science, computer engineering, or sof...  ...   \n",
              "5  Computer science, computer engineering, or sof...  ...   \n",
              "6  Information systems, information technology, o...  ...   \n",
              "7                                                NaN  ...   \n",
              "8  Information systems, information technology, o...  ...   \n",
              "9                                                NaN  ...   \n",
              "\n",
              "                                       WelcomeChange  \\\n",
              "0            Just as welcome now as I felt last year   \n",
              "1            Just as welcome now as I felt last year   \n",
              "2           Somewhat more welcome now than last year   \n",
              "3            Just as welcome now as I felt last year   \n",
              "4            Just as welcome now as I felt last year   \n",
              "5            Just as welcome now as I felt last year   \n",
              "6  Not applicable - I did not use Stack Overflow ...   \n",
              "7            Just as welcome now as I felt last year   \n",
              "8            Just as welcome now as I felt last year   \n",
              "9            Just as welcome now as I felt last year   \n",
              "\n",
              "                                        SONewContent   Age Gender Trans  \\\n",
              "0  Tech articles written by other developers;Indu...  22.0    Man    No   \n",
              "1                                                NaN  23.0    Man    No   \n",
              "2  Tech articles written by other developers;Cour...  28.0    Man    No   \n",
              "3  Tech articles written by other developers;Indu...  26.0    Man    No   \n",
              "4  Tech articles written by other developers;Indu...  29.0    Man    No   \n",
              "5  Tech articles written by other developers;Indu...  31.0    Man    No   \n",
              "6          Tech articles written by other developers  38.0    Man    No   \n",
              "7  Tech articles written by other developers;Indu...  47.0    Man    No   \n",
              "8  Tech articles written by other developers;Tech...  22.0    Man    No   \n",
              "9  Tech articles written by other developers;Indu...  23.0    Man    No   \n",
              "\n",
              "                 Sexuality                              Ethnicity Dependents  \\\n",
              "0  Straight / Heterosexual           White or of European descent         No   \n",
              "1                 Bisexual           White or of European descent         No   \n",
              "2  Straight / Heterosexual           White or of European descent        Yes   \n",
              "3  Straight / Heterosexual           White or of European descent         No   \n",
              "4  Straight / Heterosexual  Hispanic or Latino/Latina;Multiracial         No   \n",
              "5  Straight / Heterosexual              Hispanic or Latino/Latina        Yes   \n",
              "6  Straight / Heterosexual           White or of European descent        Yes   \n",
              "7  Straight / Heterosexual           White or of European descent        Yes   \n",
              "8  Straight / Heterosexual            Black or of African descent         No   \n",
              "9  Straight / Heterosexual                         Middle Eastern         No   \n",
              "\n",
              "            SurveyLength                  SurveyEase  \n",
              "0  Appropriate in length                        Easy  \n",
              "1  Appropriate in length  Neither easy nor difficult  \n",
              "2  Appropriate in length                        Easy  \n",
              "3  Appropriate in length  Neither easy nor difficult  \n",
              "4  Appropriate in length                        Easy  \n",
              "5               Too long                        Easy  \n",
              "6  Appropriate in length                        Easy  \n",
              "7  Appropriate in length                        Easy  \n",
              "8  Appropriate in length                        Easy  \n",
              "9  Appropriate in length                        Easy  \n",
              "\n",
              "[10 rows x 85 columns]"
            ],
            "text/html": [
              "\n",
              "  <div id=\"df-b3344af8-30cc-4bc6-9b9d-c5f067dd3d32\" class=\"colab-df-container\">\n",
              "    <div>\n",
              "<style scoped>\n",
              "    .dataframe tbody tr th:only-of-type {\n",
              "        vertical-align: middle;\n",
              "    }\n",
              "\n",
              "    .dataframe tbody tr th {\n",
              "        vertical-align: top;\n",
              "    }\n",
              "\n",
              "    .dataframe thead th {\n",
              "        text-align: right;\n",
              "    }\n",
              "</style>\n",
              "<table border=\"1\" class=\"dataframe\">\n",
              "  <thead>\n",
              "    <tr style=\"text-align: right;\">\n",
              "      <th></th>\n",
              "      <th>Respondent</th>\n",
              "      <th>MainBranch</th>\n",
              "      <th>Hobbyist</th>\n",
              "      <th>OpenSourcer</th>\n",
              "      <th>OpenSource</th>\n",
              "      <th>Employment</th>\n",
              "      <th>Country</th>\n",
              "      <th>Student</th>\n",
              "      <th>EdLevel</th>\n",
              "      <th>UndergradMajor</th>\n",
              "      <th>...</th>\n",
              "      <th>WelcomeChange</th>\n",
              "      <th>SONewContent</th>\n",
              "      <th>Age</th>\n",
              "      <th>Gender</th>\n",
              "      <th>Trans</th>\n",
              "      <th>Sexuality</th>\n",
              "      <th>Ethnicity</th>\n",
              "      <th>Dependents</th>\n",
              "      <th>SurveyLength</th>\n",
              "      <th>SurveyEase</th>\n",
              "    </tr>\n",
              "  </thead>\n",
              "  <tbody>\n",
              "    <tr>\n",
              "      <th>0</th>\n",
              "      <td>4</td>\n",
              "      <td>I am a developer by profession</td>\n",
              "      <td>No</td>\n",
              "      <td>Never</td>\n",
              "      <td>The quality of OSS and closed source software ...</td>\n",
              "      <td>Employed full-time</td>\n",
              "      <td>United States</td>\n",
              "      <td>No</td>\n",
              "      <td>Bachelor’s degree (BA, BS, B.Eng., etc.)</td>\n",
              "      <td>Computer science, computer engineering, or sof...</td>\n",
              "      <td>...</td>\n",
              "      <td>Just as welcome now as I felt last year</td>\n",
              "      <td>Tech articles written by other developers;Indu...</td>\n",
              "      <td>22.0</td>\n",
              "      <td>Man</td>\n",
              "      <td>No</td>\n",
              "      <td>Straight / Heterosexual</td>\n",
              "      <td>White or of European descent</td>\n",
              "      <td>No</td>\n",
              "      <td>Appropriate in length</td>\n",
              "      <td>Easy</td>\n",
              "    </tr>\n",
              "    <tr>\n",
              "      <th>1</th>\n",
              "      <td>9</td>\n",
              "      <td>I am a developer by profession</td>\n",
              "      <td>Yes</td>\n",
              "      <td>Once a month or more often</td>\n",
              "      <td>The quality of OSS and closed source software ...</td>\n",
              "      <td>Employed full-time</td>\n",
              "      <td>New Zealand</td>\n",
              "      <td>No</td>\n",
              "      <td>Some college/university study without earning ...</td>\n",
              "      <td>Computer science, computer engineering, or sof...</td>\n",
              "      <td>...</td>\n",
              "      <td>Just as welcome now as I felt last year</td>\n",
              "      <td>NaN</td>\n",
              "      <td>23.0</td>\n",
              "      <td>Man</td>\n",
              "      <td>No</td>\n",
              "      <td>Bisexual</td>\n",
              "      <td>White or of European descent</td>\n",
              "      <td>No</td>\n",
              "      <td>Appropriate in length</td>\n",
              "      <td>Neither easy nor difficult</td>\n",
              "    </tr>\n",
              "    <tr>\n",
              "      <th>2</th>\n",
              "      <td>13</td>\n",
              "      <td>I am a developer by profession</td>\n",
              "      <td>Yes</td>\n",
              "      <td>Less than once a month but more than once per ...</td>\n",
              "      <td>OSS is, on average, of HIGHER quality than pro...</td>\n",
              "      <td>Employed full-time</td>\n",
              "      <td>United States</td>\n",
              "      <td>No</td>\n",
              "      <td>Master’s degree (MA, MS, M.Eng., MBA, etc.)</td>\n",
              "      <td>Computer science, computer engineering, or sof...</td>\n",
              "      <td>...</td>\n",
              "      <td>Somewhat more welcome now than last year</td>\n",
              "      <td>Tech articles written by other developers;Cour...</td>\n",
              "      <td>28.0</td>\n",
              "      <td>Man</td>\n",
              "      <td>No</td>\n",
              "      <td>Straight / Heterosexual</td>\n",
              "      <td>White or of European descent</td>\n",
              "      <td>Yes</td>\n",
              "      <td>Appropriate in length</td>\n",
              "      <td>Easy</td>\n",
              "    </tr>\n",
              "    <tr>\n",
              "      <th>3</th>\n",
              "      <td>16</td>\n",
              "      <td>I am a developer by profession</td>\n",
              "      <td>Yes</td>\n",
              "      <td>Never</td>\n",
              "      <td>The quality of OSS and closed source software ...</td>\n",
              "      <td>Employed full-time</td>\n",
              "      <td>United Kingdom</td>\n",
              "      <td>No</td>\n",
              "      <td>Master’s degree (MA, MS, M.Eng., MBA, etc.)</td>\n",
              "      <td>NaN</td>\n",
              "      <td>...</td>\n",
              "      <td>Just as welcome now as I felt last year</td>\n",
              "      <td>Tech articles written by other developers;Indu...</td>\n",
              "      <td>26.0</td>\n",
              "      <td>Man</td>\n",
              "      <td>No</td>\n",
              "      <td>Straight / Heterosexual</td>\n",
              "      <td>White or of European descent</td>\n",
              "      <td>No</td>\n",
              "      <td>Appropriate in length</td>\n",
              "      <td>Neither easy nor difficult</td>\n",
              "    </tr>\n",
              "    <tr>\n",
              "      <th>4</th>\n",
              "      <td>17</td>\n",
              "      <td>I am a developer by profession</td>\n",
              "      <td>Yes</td>\n",
              "      <td>Less than once a month but more than once per ...</td>\n",
              "      <td>The quality of OSS and closed source software ...</td>\n",
              "      <td>Employed full-time</td>\n",
              "      <td>Australia</td>\n",
              "      <td>No</td>\n",
              "      <td>Bachelor’s degree (BA, BS, B.Eng., etc.)</td>\n",
              "      <td>Computer science, computer engineering, or sof...</td>\n",
              "      <td>...</td>\n",
              "      <td>Just as welcome now as I felt last year</td>\n",
              "      <td>Tech articles written by other developers;Indu...</td>\n",
              "      <td>29.0</td>\n",
              "      <td>Man</td>\n",
              "      <td>No</td>\n",
              "      <td>Straight / Heterosexual</td>\n",
              "      <td>Hispanic or Latino/Latina;Multiracial</td>\n",
              "      <td>No</td>\n",
              "      <td>Appropriate in length</td>\n",
              "      <td>Easy</td>\n",
              "    </tr>\n",
              "    <tr>\n",
              "      <th>5</th>\n",
              "      <td>19</td>\n",
              "      <td>I am a developer by profession</td>\n",
              "      <td>Yes</td>\n",
              "      <td>Never</td>\n",
              "      <td>The quality of OSS and closed source software ...</td>\n",
              "      <td>Employed full-time</td>\n",
              "      <td>Brazil</td>\n",
              "      <td>No</td>\n",
              "      <td>Some college/university study without earning ...</td>\n",
              "      <td>Computer science, computer engineering, or sof...</td>\n",
              "      <td>...</td>\n",
              "      <td>Just as welcome now as I felt last year</td>\n",
              "      <td>Tech articles written by other developers;Indu...</td>\n",
              "      <td>31.0</td>\n",
              "      <td>Man</td>\n",
              "      <td>No</td>\n",
              "      <td>Straight / Heterosexual</td>\n",
              "      <td>Hispanic or Latino/Latina</td>\n",
              "      <td>Yes</td>\n",
              "      <td>Too long</td>\n",
              "      <td>Easy</td>\n",
              "    </tr>\n",
              "    <tr>\n",
              "      <th>6</th>\n",
              "      <td>20</td>\n",
              "      <td>I am not primarily a developer, but I write co...</td>\n",
              "      <td>No</td>\n",
              "      <td>Never</td>\n",
              "      <td>OSS is, on average, of HIGHER quality than pro...</td>\n",
              "      <td>Employed full-time</td>\n",
              "      <td>Lithuania</td>\n",
              "      <td>No</td>\n",
              "      <td>Master’s degree (MA, MS, M.Eng., MBA, etc.)</td>\n",
              "      <td>Information systems, information technology, o...</td>\n",
              "      <td>...</td>\n",
              "      <td>Not applicable - I did not use Stack Overflow ...</td>\n",
              "      <td>Tech articles written by other developers</td>\n",
              "      <td>38.0</td>\n",
              "      <td>Man</td>\n",
              "      <td>No</td>\n",
              "      <td>Straight / Heterosexual</td>\n",
              "      <td>White or of European descent</td>\n",
              "      <td>Yes</td>\n",
              "      <td>Appropriate in length</td>\n",
              "      <td>Easy</td>\n",
              "    </tr>\n",
              "    <tr>\n",
              "      <th>7</th>\n",
              "      <td>22</td>\n",
              "      <td>I am a developer by profession</td>\n",
              "      <td>Yes</td>\n",
              "      <td>Less than once per year</td>\n",
              "      <td>OSS is, on average, of HIGHER quality than pro...</td>\n",
              "      <td>Employed full-time</td>\n",
              "      <td>United States</td>\n",
              "      <td>No</td>\n",
              "      <td>Some college/university study without earning ...</td>\n",
              "      <td>NaN</td>\n",
              "      <td>...</td>\n",
              "      <td>Just as welcome now as I felt last year</td>\n",
              "      <td>Tech articles written by other developers;Indu...</td>\n",
              "      <td>47.0</td>\n",
              "      <td>Man</td>\n",
              "      <td>No</td>\n",
              "      <td>Straight / Heterosexual</td>\n",
              "      <td>White or of European descent</td>\n",
              "      <td>Yes</td>\n",
              "      <td>Appropriate in length</td>\n",
              "      <td>Easy</td>\n",
              "    </tr>\n",
              "    <tr>\n",
              "      <th>8</th>\n",
              "      <td>23</td>\n",
              "      <td>I am a developer by profession</td>\n",
              "      <td>Yes</td>\n",
              "      <td>Less than once per year</td>\n",
              "      <td>The quality of OSS and closed source software ...</td>\n",
              "      <td>Employed full-time</td>\n",
              "      <td>United States</td>\n",
              "      <td>No</td>\n",
              "      <td>Bachelor’s degree (BA, BS, B.Eng., etc.)</td>\n",
              "      <td>Information systems, information technology, o...</td>\n",
              "      <td>...</td>\n",
              "      <td>Just as welcome now as I felt last year</td>\n",
              "      <td>Tech articles written by other developers;Tech...</td>\n",
              "      <td>22.0</td>\n",
              "      <td>Man</td>\n",
              "      <td>No</td>\n",
              "      <td>Straight / Heterosexual</td>\n",
              "      <td>Black or of African descent</td>\n",
              "      <td>No</td>\n",
              "      <td>Appropriate in length</td>\n",
              "      <td>Easy</td>\n",
              "    </tr>\n",
              "    <tr>\n",
              "      <th>9</th>\n",
              "      <td>24</td>\n",
              "      <td>I am a developer by profession</td>\n",
              "      <td>Yes</td>\n",
              "      <td>Never</td>\n",
              "      <td>OSS is, on average, of HIGHER quality than pro...</td>\n",
              "      <td>Employed full-time</td>\n",
              "      <td>Israel</td>\n",
              "      <td>No</td>\n",
              "      <td>Primary/elementary school</td>\n",
              "      <td>NaN</td>\n",
              "      <td>...</td>\n",
              "      <td>Just as welcome now as I felt last year</td>\n",
              "      <td>Tech articles written by other developers;Indu...</td>\n",
              "      <td>23.0</td>\n",
              "      <td>Man</td>\n",
              "      <td>No</td>\n",
              "      <td>Straight / Heterosexual</td>\n",
              "      <td>Middle Eastern</td>\n",
              "      <td>No</td>\n",
              "      <td>Appropriate in length</td>\n",
              "      <td>Easy</td>\n",
              "    </tr>\n",
              "  </tbody>\n",
              "</table>\n",
              "<p>10 rows × 85 columns</p>\n",
              "</div>\n",
              "    <div class=\"colab-df-buttons\">\n",
              "\n",
              "  <div class=\"colab-df-container\">\n",
              "    <button class=\"colab-df-convert\" onclick=\"convertToInteractive('df-b3344af8-30cc-4bc6-9b9d-c5f067dd3d32')\"\n",
              "            title=\"Convert this dataframe to an interactive table.\"\n",
              "            style=\"display:none;\">\n",
              "\n",
              "  <svg xmlns=\"http://www.w3.org/2000/svg\" height=\"24px\" viewBox=\"0 -960 960 960\">\n",
              "    <path d=\"M120-120v-720h720v720H120Zm60-500h600v-160H180v160Zm220 220h160v-160H400v160Zm0 220h160v-160H400v160ZM180-400h160v-160H180v160Zm440 0h160v-160H620v160ZM180-180h160v-160H180v160Zm440 0h160v-160H620v160Z\"/>\n",
              "  </svg>\n",
              "    </button>\n",
              "\n",
              "  <style>\n",
              "    .colab-df-container {\n",
              "      display:flex;\n",
              "      gap: 12px;\n",
              "    }\n",
              "\n",
              "    .colab-df-convert {\n",
              "      background-color: #E8F0FE;\n",
              "      border: none;\n",
              "      border-radius: 50%;\n",
              "      cursor: pointer;\n",
              "      display: none;\n",
              "      fill: #1967D2;\n",
              "      height: 32px;\n",
              "      padding: 0 0 0 0;\n",
              "      width: 32px;\n",
              "    }\n",
              "\n",
              "    .colab-df-convert:hover {\n",
              "      background-color: #E2EBFA;\n",
              "      box-shadow: 0px 1px 2px rgba(60, 64, 67, 0.3), 0px 1px 3px 1px rgba(60, 64, 67, 0.15);\n",
              "      fill: #174EA6;\n",
              "    }\n",
              "\n",
              "    .colab-df-buttons div {\n",
              "      margin-bottom: 4px;\n",
              "    }\n",
              "\n",
              "    [theme=dark] .colab-df-convert {\n",
              "      background-color: #3B4455;\n",
              "      fill: #D2E3FC;\n",
              "    }\n",
              "\n",
              "    [theme=dark] .colab-df-convert:hover {\n",
              "      background-color: #434B5C;\n",
              "      box-shadow: 0px 1px 3px 1px rgba(0, 0, 0, 0.15);\n",
              "      filter: drop-shadow(0px 1px 2px rgba(0, 0, 0, 0.3));\n",
              "      fill: #FFFFFF;\n",
              "    }\n",
              "  </style>\n",
              "\n",
              "    <script>\n",
              "      const buttonEl =\n",
              "        document.querySelector('#df-b3344af8-30cc-4bc6-9b9d-c5f067dd3d32 button.colab-df-convert');\n",
              "      buttonEl.style.display =\n",
              "        google.colab.kernel.accessAllowed ? 'block' : 'none';\n",
              "\n",
              "      async function convertToInteractive(key) {\n",
              "        const element = document.querySelector('#df-b3344af8-30cc-4bc6-9b9d-c5f067dd3d32');\n",
              "        const dataTable =\n",
              "          await google.colab.kernel.invokeFunction('convertToInteractive',\n",
              "                                                    [key], {});\n",
              "        if (!dataTable) return;\n",
              "\n",
              "        const docLinkHtml = 'Like what you see? Visit the ' +\n",
              "          '<a target=\"_blank\" href=https://colab.research.google.com/notebooks/data_table.ipynb>data table notebook</a>'\n",
              "          + ' to learn more about interactive tables.';\n",
              "        element.innerHTML = '';\n",
              "        dataTable['output_type'] = 'display_data';\n",
              "        await google.colab.output.renderOutput(dataTable, element);\n",
              "        const docLink = document.createElement('div');\n",
              "        docLink.innerHTML = docLinkHtml;\n",
              "        element.appendChild(docLink);\n",
              "      }\n",
              "    </script>\n",
              "  </div>\n",
              "\n",
              "\n",
              "<div id=\"df-7b6f7df0-655c-4a7d-a80f-c9be633d3945\">\n",
              "  <button class=\"colab-df-quickchart\" onclick=\"quickchart('df-7b6f7df0-655c-4a7d-a80f-c9be633d3945')\"\n",
              "            title=\"Suggest charts\"\n",
              "            style=\"display:none;\">\n",
              "\n",
              "<svg xmlns=\"http://www.w3.org/2000/svg\" height=\"24px\"viewBox=\"0 0 24 24\"\n",
              "     width=\"24px\">\n",
              "    <g>\n",
              "        <path d=\"M19 3H5c-1.1 0-2 .9-2 2v14c0 1.1.9 2 2 2h14c1.1 0 2-.9 2-2V5c0-1.1-.9-2-2-2zM9 17H7v-7h2v7zm4 0h-2V7h2v10zm4 0h-2v-4h2v4z\"/>\n",
              "    </g>\n",
              "</svg>\n",
              "  </button>\n",
              "\n",
              "<style>\n",
              "  .colab-df-quickchart {\n",
              "      --bg-color: #E8F0FE;\n",
              "      --fill-color: #1967D2;\n",
              "      --hover-bg-color: #E2EBFA;\n",
              "      --hover-fill-color: #174EA6;\n",
              "      --disabled-fill-color: #AAA;\n",
              "      --disabled-bg-color: #DDD;\n",
              "  }\n",
              "\n",
              "  [theme=dark] .colab-df-quickchart {\n",
              "      --bg-color: #3B4455;\n",
              "      --fill-color: #D2E3FC;\n",
              "      --hover-bg-color: #434B5C;\n",
              "      --hover-fill-color: #FFFFFF;\n",
              "      --disabled-bg-color: #3B4455;\n",
              "      --disabled-fill-color: #666;\n",
              "  }\n",
              "\n",
              "  .colab-df-quickchart {\n",
              "    background-color: var(--bg-color);\n",
              "    border: none;\n",
              "    border-radius: 50%;\n",
              "    cursor: pointer;\n",
              "    display: none;\n",
              "    fill: var(--fill-color);\n",
              "    height: 32px;\n",
              "    padding: 0;\n",
              "    width: 32px;\n",
              "  }\n",
              "\n",
              "  .colab-df-quickchart:hover {\n",
              "    background-color: var(--hover-bg-color);\n",
              "    box-shadow: 0 1px 2px rgba(60, 64, 67, 0.3), 0 1px 3px 1px rgba(60, 64, 67, 0.15);\n",
              "    fill: var(--button-hover-fill-color);\n",
              "  }\n",
              "\n",
              "  .colab-df-quickchart-complete:disabled,\n",
              "  .colab-df-quickchart-complete:disabled:hover {\n",
              "    background-color: var(--disabled-bg-color);\n",
              "    fill: var(--disabled-fill-color);\n",
              "    box-shadow: none;\n",
              "  }\n",
              "\n",
              "  .colab-df-spinner {\n",
              "    border: 2px solid var(--fill-color);\n",
              "    border-color: transparent;\n",
              "    border-bottom-color: var(--fill-color);\n",
              "    animation:\n",
              "      spin 1s steps(1) infinite;\n",
              "  }\n",
              "\n",
              "  @keyframes spin {\n",
              "    0% {\n",
              "      border-color: transparent;\n",
              "      border-bottom-color: var(--fill-color);\n",
              "      border-left-color: var(--fill-color);\n",
              "    }\n",
              "    20% {\n",
              "      border-color: transparent;\n",
              "      border-left-color: var(--fill-color);\n",
              "      border-top-color: var(--fill-color);\n",
              "    }\n",
              "    30% {\n",
              "      border-color: transparent;\n",
              "      border-left-color: var(--fill-color);\n",
              "      border-top-color: var(--fill-color);\n",
              "      border-right-color: var(--fill-color);\n",
              "    }\n",
              "    40% {\n",
              "      border-color: transparent;\n",
              "      border-right-color: var(--fill-color);\n",
              "      border-top-color: var(--fill-color);\n",
              "    }\n",
              "    60% {\n",
              "      border-color: transparent;\n",
              "      border-right-color: var(--fill-color);\n",
              "    }\n",
              "    80% {\n",
              "      border-color: transparent;\n",
              "      border-right-color: var(--fill-color);\n",
              "      border-bottom-color: var(--fill-color);\n",
              "    }\n",
              "    90% {\n",
              "      border-color: transparent;\n",
              "      border-bottom-color: var(--fill-color);\n",
              "    }\n",
              "  }\n",
              "</style>\n",
              "\n",
              "  <script>\n",
              "    async function quickchart(key) {\n",
              "      const quickchartButtonEl =\n",
              "        document.querySelector('#' + key + ' button');\n",
              "      quickchartButtonEl.disabled = true;  // To prevent multiple clicks.\n",
              "      quickchartButtonEl.classList.add('colab-df-spinner');\n",
              "      try {\n",
              "        const charts = await google.colab.kernel.invokeFunction(\n",
              "            'suggestCharts', [key], {});\n",
              "      } catch (error) {\n",
              "        console.error('Error during call to suggestCharts:', error);\n",
              "      }\n",
              "      quickchartButtonEl.classList.remove('colab-df-spinner');\n",
              "      quickchartButtonEl.classList.add('colab-df-quickchart-complete');\n",
              "    }\n",
              "    (() => {\n",
              "      let quickchartButtonEl =\n",
              "        document.querySelector('#df-7b6f7df0-655c-4a7d-a80f-c9be633d3945 button');\n",
              "      quickchartButtonEl.style.display =\n",
              "        google.colab.kernel.accessAllowed ? 'block' : 'none';\n",
              "    })();\n",
              "  </script>\n",
              "</div>\n",
              "\n",
              "    </div>\n",
              "  </div>\n"
            ],
            "application/vnd.google.colaboratory.intrinsic+json": {
              "type": "dataframe",
              "variable_name": "df"
            }
          },
          "metadata": {},
          "execution_count": 3
        }
      ],
      "source": [
        "df = pd.read_csv(\"https://cf-courses-data.s3.us.cloud-object-storage.appdomain.cloud/IBM-DA0321EN-SkillsNetwork/LargeData/m1_survey_data.csv\")\n",
        "df.head(10)"
      ]
    },
    {
      "cell_type": "markdown",
      "metadata": {
        "id": "I8UtLVgwcjG-"
      },
      "source": [
        "## Finding duplicates\n"
      ]
    },
    {
      "cell_type": "markdown",
      "metadata": {
        "id": "IeRaDM6YcjG-"
      },
      "source": [
        "In this section you will identify duplicate values in the dataset.\n"
      ]
    },
    {
      "cell_type": "markdown",
      "metadata": {
        "id": "jF3V13bXcjG-"
      },
      "source": [
        " Find how many duplicate rows exist in the dataframe.\n"
      ]
    },
    {
      "cell_type": "code",
      "execution_count": 4,
      "metadata": {
        "colab": {
          "base_uri": "https://localhost:8080/"
        },
        "id": "YhCgi9UacjG-",
        "outputId": "a61c637c-b7fe-45e3-e5ea-04d00feeddc1"
      },
      "outputs": [
        {
          "output_type": "stream",
          "name": "stdout",
          "text": [
            "Number of duplicate rows: 154\n"
          ]
        }
      ],
      "source": [
        "# your code goes here\n",
        "duplicate_rows = df.duplicated().sum()\n",
        "print(f\"Number of duplicate rows: {duplicate_rows}\")\n"
      ]
    },
    {
      "cell_type": "markdown",
      "metadata": {
        "id": "8kkARkARcjG_"
      },
      "source": [
        "## Removing duplicates\n"
      ]
    },
    {
      "cell_type": "markdown",
      "metadata": {
        "id": "EXbKi2VicjG_"
      },
      "source": [
        "Remove the duplicate rows from the dataframe.\n"
      ]
    },
    {
      "cell_type": "code",
      "execution_count": 5,
      "metadata": {
        "id": "diYWBujecjG_"
      },
      "outputs": [],
      "source": [
        "# your code goes here\n",
        "df = df.drop_duplicates()\n"
      ]
    },
    {
      "cell_type": "markdown",
      "metadata": {
        "id": "EdzJPRBycjG_"
      },
      "source": [
        "Verify if duplicates were actually dropped.\n"
      ]
    },
    {
      "cell_type": "code",
      "execution_count": 6,
      "metadata": {
        "colab": {
          "base_uri": "https://localhost:8080/"
        },
        "id": "ztGv2yLBcjHA",
        "outputId": "1fc4d63c-ea22-488d-cf5d-20beed00eb44"
      },
      "outputs": [
        {
          "output_type": "stream",
          "name": "stdout",
          "text": [
            "Number of duplicate rows after dropping: 0\n"
          ]
        }
      ],
      "source": [
        "# your code goes here\n",
        "duplicate_rows_after = df.duplicated().sum()\n",
        "print(f\"Number of duplicate rows after dropping: {duplicate_rows_after}\")"
      ]
    },
    {
      "cell_type": "code",
      "source": [
        "#Number of rows after removing duplicates\n",
        "rows_after_dropping_duplicates = df.shape[0]\n",
        "print(f\"Number of rows after removing duplicates: {rows_after_dropping_duplicates}\")"
      ],
      "metadata": {
        "colab": {
          "base_uri": "https://localhost:8080/"
        },
        "id": "6GOhoqvCtAqW",
        "outputId": "14db8b45-db7e-4b10-e816-b0707e823039"
      },
      "execution_count": 18,
      "outputs": [
        {
          "output_type": "stream",
          "name": "stdout",
          "text": [
            "Number of rows after removing duplicates: 11398\n"
          ]
        }
      ]
    },
    {
      "cell_type": "code",
      "source": [
        "# Count the number of missing (blank) values in the 'EdLevel' column\n",
        "missing_edlevel = df['EdLevel'].isna().sum()\n",
        "print(f\"Number of blank rows in the 'EdLevel' column: {missing_edlevel}\")"
      ],
      "metadata": {
        "colab": {
          "base_uri": "https://localhost:8080/"
        },
        "id": "X7slEECXtaR2",
        "outputId": "c054a0ab-7588-4948-8dce-5cdc0dac2d63"
      },
      "execution_count": 19,
      "outputs": [
        {
          "output_type": "stream",
          "name": "stdout",
          "text": [
            "Number of blank rows in the 'EdLevel' column: 112\n"
          ]
        }
      ]
    },
    {
      "cell_type": "code",
      "source": [
        "\n",
        "#After removing the duplicate rows, how many rows are missing under the column Country?\n",
        "# Count the number of missing (blank) values in the 'Country' column\n",
        "missing_country = df['Country'].isna().sum()\n",
        "print(f\"Number of rows missing in the 'Country' column: {missing_country}\")"
      ],
      "metadata": {
        "colab": {
          "base_uri": "https://localhost:8080/"
        },
        "id": "c6CIpIcztqQs",
        "outputId": "790dc79a-2af2-4aaa-a21d-75a9bbcb4c31"
      },
      "execution_count": 20,
      "outputs": [
        {
          "output_type": "stream",
          "name": "stdout",
          "text": [
            "Number of rows missing in the 'Country' column: 0\n"
          ]
        }
      ]
    },
    {
      "cell_type": "markdown",
      "metadata": {
        "id": "5nkXTJQGcjHA"
      },
      "source": [
        "## Finding Missing values\n"
      ]
    },
    {
      "cell_type": "markdown",
      "metadata": {
        "id": "RMelouLkcjHA"
      },
      "source": [
        "Find the missing values for all columns.\n"
      ]
    },
    {
      "cell_type": "code",
      "execution_count": 7,
      "metadata": {
        "colab": {
          "base_uri": "https://localhost:8080/"
        },
        "id": "g6bhOY-ncjHA",
        "outputId": "336a5886-2fe8-45e6-8967-bf83e3a219c2"
      },
      "outputs": [
        {
          "output_type": "stream",
          "name": "stdout",
          "text": [
            "\n",
            "Missing values in each column:\n",
            "Respondent        0\n",
            "MainBranch        0\n",
            "Hobbyist          0\n",
            "OpenSourcer       0\n",
            "OpenSource       81\n",
            "               ... \n",
            "Sexuality       542\n",
            "Ethnicity       675\n",
            "Dependents      140\n",
            "SurveyLength     19\n",
            "SurveyEase       14\n",
            "Length: 85, dtype: int64\n"
          ]
        }
      ],
      "source": [
        "# your code goes here\n",
        "missing_values = df.isnull().sum()\n",
        "print(\"\\nMissing values in each column:\")\n",
        "print(missing_values)"
      ]
    },
    {
      "cell_type": "markdown",
      "metadata": {
        "id": "5SsdoE-kcjHA"
      },
      "source": [
        "Find out how many rows are missing in the column 'WorkLoc'\n"
      ]
    },
    {
      "cell_type": "code",
      "execution_count": 8,
      "metadata": {
        "colab": {
          "base_uri": "https://localhost:8080/"
        },
        "id": "Ae1CVfyocjHB",
        "outputId": "69fc1379-3abb-4b80-b935-4abd810d545b"
      },
      "outputs": [
        {
          "output_type": "stream",
          "name": "stdout",
          "text": [
            "\n",
            "Number of missing rows in 'WorkLoc': 32\n"
          ]
        }
      ],
      "source": [
        "# your code goes here\n",
        "missing_workloc = df['WorkLoc'].isnull().sum()\n",
        "print(f\"\\nNumber of missing rows in 'WorkLoc': {missing_workloc}\")"
      ]
    },
    {
      "cell_type": "markdown",
      "metadata": {
        "id": "VvRiSJrNcjHB"
      },
      "source": [
        "## Imputing missing values\n"
      ]
    },
    {
      "cell_type": "markdown",
      "metadata": {
        "id": "qCLrDSaocjHB"
      },
      "source": [
        "Find the  value counts for the column WorkLoc.\n"
      ]
    },
    {
      "cell_type": "code",
      "execution_count": 9,
      "metadata": {
        "colab": {
          "base_uri": "https://localhost:8080/"
        },
        "id": "xCPVFM_-cjHB",
        "outputId": "97f0adaf-fba2-4d10-f4e8-2527cc0d9b09"
      },
      "outputs": [
        {
          "output_type": "stream",
          "name": "stdout",
          "text": [
            "\n",
            "Value counts for the 'WorkLoc' column:\n",
            "WorkLoc\n",
            "Office                                            6806\n",
            "Home                                              3589\n",
            "Other place, such as a coworking space or cafe     971\n",
            "Name: count, dtype: int64\n"
          ]
        }
      ],
      "source": [
        "# your code goes here\n",
        "workloc_counts = df['WorkLoc'].value_counts()\n",
        "print(\"\\nValue counts for the 'WorkLoc' column:\")\n",
        "print(workloc_counts)"
      ]
    },
    {
      "cell_type": "markdown",
      "metadata": {
        "id": "L-qy5NR0cjHB"
      },
      "source": [
        "Identify the value that is most frequent (majority) in the WorkLoc column.\n"
      ]
    },
    {
      "cell_type": "code",
      "execution_count": 10,
      "metadata": {
        "colab": {
          "base_uri": "https://localhost:8080/"
        },
        "id": "hP2W9U9lcjHC",
        "outputId": "794d53d5-5f6b-4bf4-ec34-f4b00a3b85e3"
      },
      "outputs": [
        {
          "output_type": "stream",
          "name": "stdout",
          "text": [
            "\n",
            "Most frequent value in 'WorkLoc': Office\n"
          ]
        }
      ],
      "source": [
        "#make a note of the majority value here, for future reference\n",
        "majority_workloc = workloc_counts.idxmax()\n",
        "print(f\"\\nMost frequent value in 'WorkLoc': {majority_workloc}\")"
      ]
    },
    {
      "cell_type": "markdown",
      "metadata": {
        "id": "i5k75TtLcjHC"
      },
      "source": [
        "Impute (replace) all the empty rows in the column WorkLoc with the value that you have identified as majority.\n"
      ]
    },
    {
      "cell_type": "code",
      "execution_count": 11,
      "metadata": {
        "id": "V057uMD6cjHC"
      },
      "outputs": [],
      "source": [
        "# your code goes here\n",
        "df['WorkLoc'].fillna(majority_workloc, inplace=True)"
      ]
    },
    {
      "cell_type": "markdown",
      "metadata": {
        "id": "rbqOsKCpcjHC"
      },
      "source": [
        "After imputation there should ideally not be any empty rows in the WorkLoc column.\n"
      ]
    },
    {
      "cell_type": "markdown",
      "metadata": {
        "id": "q84O946pcjHC"
      },
      "source": [
        "Verify if imputing was successful.\n"
      ]
    },
    {
      "cell_type": "code",
      "execution_count": 12,
      "metadata": {
        "colab": {
          "base_uri": "https://localhost:8080/"
        },
        "id": "0mADUSqrcjHD",
        "outputId": "f069c849-b460-4d2b-e8c4-080a8a11a030"
      },
      "outputs": [
        {
          "output_type": "stream",
          "name": "stdout",
          "text": [
            "\n",
            "Number of missing rows in 'WorkLoc' after imputation: 0\n"
          ]
        }
      ],
      "source": [
        "# your code goes here\n",
        "missing_workloc_after = df['WorkLoc'].isnull().sum()\n",
        "print(f\"\\nNumber of missing rows in 'WorkLoc' after imputation: {missing_workloc_after}\")"
      ]
    },
    {
      "cell_type": "code",
      "source": [
        "\n",
        "# What is the majority category under the column Employment?\n",
        "majority_category = df['Employment'].mode()[0]\n",
        "print(f\"The majority category under the 'Employment' column is: {majority_category}\")"
      ],
      "metadata": {
        "colab": {
          "base_uri": "https://localhost:8080/"
        },
        "id": "ofnR0PPuubNl",
        "outputId": "635c795f-c9d2-4921-adb1-0209779020e5"
      },
      "execution_count": 23,
      "outputs": [
        {
          "output_type": "stream",
          "name": "stdout",
          "text": [
            "The majority category under the 'Employment' column is: Employed full-time\n"
          ]
        }
      ]
    },
    {
      "cell_type": "code",
      "source": [
        "##Under the column \" UndergradMajor\", which category has the minimum number of rows?\n",
        "\n",
        "# Find the value counts for the 'UndergradMajor' column\n",
        "undergrad_major_counts = df['UndergradMajor'].value_counts()\n",
        "\n",
        "# Get the category with the minimum number of rows\n",
        "min_category = undergrad_major_counts.idxmin()\n",
        "print(f\"The category with the minimum number of rows under the 'UndergradMajor' column is: {min_category}\")"
      ],
      "metadata": {
        "colab": {
          "base_uri": "https://localhost:8080/"
        },
        "id": "9edDi7o9vI1b",
        "outputId": "d02c5e4b-3079-4186-919d-992176a0afcf"
      },
      "execution_count": 24,
      "outputs": [
        {
          "output_type": "stream",
          "name": "stdout",
          "text": [
            "The category with the minimum number of rows under the 'UndergradMajor' column is: A health science (ex. nursing, pharmacy, radiology)\n"
          ]
        }
      ]
    },
    {
      "cell_type": "markdown",
      "metadata": {
        "id": "dyvYg8PwcjHD"
      },
      "source": [
        "## Normalizing data\n"
      ]
    },
    {
      "cell_type": "markdown",
      "metadata": {
        "id": "7jnV7UxZcjHD"
      },
      "source": [
        "There are two columns in the dataset that talk about compensation.\n",
        "\n",
        "One is \"CompFreq\". This column shows how often a developer is paid (Yearly, Monthly, Weekly).\n",
        "\n",
        "The other is \"CompTotal\". This column talks about how much the developer is paid per Year, Month, or Week depending upon his/her \"CompFreq\".\n",
        "\n",
        "This makes it difficult to compare the total compensation of the developers.\n",
        "\n",
        "In this section you will create a new column called 'NormalizedAnnualCompensation' which contains the 'Annual Compensation' irrespective of the 'CompFreq'.\n",
        "\n",
        "Once this column is ready, it makes comparison of salaries easy.\n"
      ]
    },
    {
      "cell_type": "markdown",
      "metadata": {
        "id": "1a_8o4vBcjHD"
      },
      "source": [
        "<hr>\n"
      ]
    },
    {
      "cell_type": "markdown",
      "metadata": {
        "id": "pQ5lM2-TcjHD"
      },
      "source": [
        "List out the various categories in the column 'CompFreq'\n"
      ]
    },
    {
      "cell_type": "code",
      "execution_count": 13,
      "metadata": {
        "colab": {
          "base_uri": "https://localhost:8080/",
          "height": 229
        },
        "id": "eAVCLIkqcjHE",
        "outputId": "823eb815-02cc-4e41-95f6-5e1e228d7d44"
      },
      "outputs": [
        {
          "output_type": "execute_result",
          "data": {
            "text/plain": [
              "CompFreq\n",
              "Yearly     6073\n",
              "Monthly    4788\n",
              "Weekly      331\n",
              "Name: count, dtype: int64"
            ],
            "text/html": [
              "<div>\n",
              "<style scoped>\n",
              "    .dataframe tbody tr th:only-of-type {\n",
              "        vertical-align: middle;\n",
              "    }\n",
              "\n",
              "    .dataframe tbody tr th {\n",
              "        vertical-align: top;\n",
              "    }\n",
              "\n",
              "    .dataframe thead th {\n",
              "        text-align: right;\n",
              "    }\n",
              "</style>\n",
              "<table border=\"1\" class=\"dataframe\">\n",
              "  <thead>\n",
              "    <tr style=\"text-align: right;\">\n",
              "      <th></th>\n",
              "      <th>count</th>\n",
              "    </tr>\n",
              "    <tr>\n",
              "      <th>CompFreq</th>\n",
              "      <th></th>\n",
              "    </tr>\n",
              "  </thead>\n",
              "  <tbody>\n",
              "    <tr>\n",
              "      <th>Yearly</th>\n",
              "      <td>6073</td>\n",
              "    </tr>\n",
              "    <tr>\n",
              "      <th>Monthly</th>\n",
              "      <td>4788</td>\n",
              "    </tr>\n",
              "    <tr>\n",
              "      <th>Weekly</th>\n",
              "      <td>331</td>\n",
              "    </tr>\n",
              "  </tbody>\n",
              "</table>\n",
              "</div><br><label><b>dtype:</b> int64</label>"
            ]
          },
          "metadata": {},
          "execution_count": 13
        }
      ],
      "source": [
        "# your code goes here\n",
        "df['CompFreq'].value_counts()"
      ]
    },
    {
      "cell_type": "markdown",
      "metadata": {
        "id": "J9zCBuJScjHE"
      },
      "source": [
        "Create a new column named 'NormalizedAnnualCompensation'. Use the hint given below if needed.\n"
      ]
    },
    {
      "cell_type": "markdown",
      "metadata": {
        "id": "pInNciSBcjHE"
      },
      "source": [
        "Double click to see the **Hint**.\n",
        "\n",
        "<!--\n",
        "\n",
        "Use the below logic to arrive at the values for the column NormalizedAnnualCompensation.\n",
        "\n",
        "If the CompFreq is Yearly then use the exising value in CompTotal\n",
        "If the CompFreq is Monthly then multiply the value in CompTotal with 12 (months in an year)\n",
        "If the CompFreq is Weekly then multiply the value in CompTotal with 52 (weeks in an year)\n",
        "\n",
        "-->\n"
      ]
    },
    {
      "cell_type": "code",
      "execution_count": 14,
      "metadata": {
        "id": "QW_RW6O8cjHE"
      },
      "outputs": [],
      "source": [
        "# your code goes here\n",
        "def normalize_compensation(row):\n",
        "    if row['CompFreq'] == 'Yearly':\n",
        "        return row['CompTotal']\n",
        "    elif row['CompFreq'] == 'Monthly':\n",
        "        return row['CompTotal'] * 12\n",
        "    elif row['CompFreq'] == 'Weekly':\n",
        "        return row['CompTotal'] * 52\n",
        "    else:\n",
        "        return None\n",
        "\n",
        "df['NormalizedAnnualCompensation'] = df.apply(normalize_compensation, axis=1)"
      ]
    },
    {
      "cell_type": "code",
      "source": [
        "# Display the first few rows to verify\n",
        "print(\"\\nFirst few rows with 'NormalizedAnnualCompensation':\")\n",
        "print(df[['CompFreq', 'CompTotal', 'NormalizedAnnualCompensation']].head())"
      ],
      "metadata": {
        "colab": {
          "base_uri": "https://localhost:8080/"
        },
        "id": "M1sH5AGuo-8E",
        "outputId": "2681e99b-b395-4fa7-9170-e064c563fd53"
      },
      "execution_count": 15,
      "outputs": [
        {
          "output_type": "stream",
          "name": "stdout",
          "text": [
            "\n",
            "First few rows with 'NormalizedAnnualCompensation':\n",
            "  CompFreq  CompTotal  NormalizedAnnualCompensation\n",
            "0   Yearly    61000.0                       61000.0\n",
            "1   Yearly   138000.0                      138000.0\n",
            "2   Yearly    90000.0                       90000.0\n",
            "3  Monthly    29000.0                      348000.0\n",
            "4   Yearly    90000.0                       90000.0\n"
          ]
        }
      ]
    },
    {
      "cell_type": "code",
      "source": [
        "df.head()"
      ],
      "metadata": {
        "colab": {
          "base_uri": "https://localhost:8080/",
          "height": 620
        },
        "id": "gj63ZctNp6nG",
        "outputId": "6ebb5f42-8ee5-46dc-9e6f-6774b09f3340"
      },
      "execution_count": 16,
      "outputs": [
        {
          "output_type": "execute_result",
          "data": {
            "text/plain": [
              "   Respondent                      MainBranch Hobbyist  \\\n",
              "0           4  I am a developer by profession       No   \n",
              "1           9  I am a developer by profession      Yes   \n",
              "2          13  I am a developer by profession      Yes   \n",
              "3          16  I am a developer by profession      Yes   \n",
              "4          17  I am a developer by profession      Yes   \n",
              "\n",
              "                                         OpenSourcer  \\\n",
              "0                                              Never   \n",
              "1                         Once a month or more often   \n",
              "2  Less than once a month but more than once per ...   \n",
              "3                                              Never   \n",
              "4  Less than once a month but more than once per ...   \n",
              "\n",
              "                                          OpenSource          Employment  \\\n",
              "0  The quality of OSS and closed source software ...  Employed full-time   \n",
              "1  The quality of OSS and closed source software ...  Employed full-time   \n",
              "2  OSS is, on average, of HIGHER quality than pro...  Employed full-time   \n",
              "3  The quality of OSS and closed source software ...  Employed full-time   \n",
              "4  The quality of OSS and closed source software ...  Employed full-time   \n",
              "\n",
              "          Country Student                                            EdLevel  \\\n",
              "0   United States      No           Bachelor’s degree (BA, BS, B.Eng., etc.)   \n",
              "1     New Zealand      No  Some college/university study without earning ...   \n",
              "2   United States      No        Master’s degree (MA, MS, M.Eng., MBA, etc.)   \n",
              "3  United Kingdom      No        Master’s degree (MA, MS, M.Eng., MBA, etc.)   \n",
              "4       Australia      No           Bachelor’s degree (BA, BS, B.Eng., etc.)   \n",
              "\n",
              "                                      UndergradMajor  ...  \\\n",
              "0  Computer science, computer engineering, or sof...  ...   \n",
              "1  Computer science, computer engineering, or sof...  ...   \n",
              "2  Computer science, computer engineering, or sof...  ...   \n",
              "3                                                NaN  ...   \n",
              "4  Computer science, computer engineering, or sof...  ...   \n",
              "\n",
              "                                        SONewContent   Age Gender Trans  \\\n",
              "0  Tech articles written by other developers;Indu...  22.0    Man    No   \n",
              "1                                                NaN  23.0    Man    No   \n",
              "2  Tech articles written by other developers;Cour...  28.0    Man    No   \n",
              "3  Tech articles written by other developers;Indu...  26.0    Man    No   \n",
              "4  Tech articles written by other developers;Indu...  29.0    Man    No   \n",
              "\n",
              "                 Sexuality                              Ethnicity Dependents  \\\n",
              "0  Straight / Heterosexual           White or of European descent         No   \n",
              "1                 Bisexual           White or of European descent         No   \n",
              "2  Straight / Heterosexual           White or of European descent        Yes   \n",
              "3  Straight / Heterosexual           White or of European descent         No   \n",
              "4  Straight / Heterosexual  Hispanic or Latino/Latina;Multiracial         No   \n",
              "\n",
              "            SurveyLength                  SurveyEase  \\\n",
              "0  Appropriate in length                        Easy   \n",
              "1  Appropriate in length  Neither easy nor difficult   \n",
              "2  Appropriate in length                        Easy   \n",
              "3  Appropriate in length  Neither easy nor difficult   \n",
              "4  Appropriate in length                        Easy   \n",
              "\n",
              "  NormalizedAnnualCompensation  \n",
              "0                      61000.0  \n",
              "1                     138000.0  \n",
              "2                      90000.0  \n",
              "3                     348000.0  \n",
              "4                      90000.0  \n",
              "\n",
              "[5 rows x 86 columns]"
            ],
            "text/html": [
              "\n",
              "  <div id=\"df-6acf2ce7-9581-49f4-b887-d917e4d9ca23\" class=\"colab-df-container\">\n",
              "    <div>\n",
              "<style scoped>\n",
              "    .dataframe tbody tr th:only-of-type {\n",
              "        vertical-align: middle;\n",
              "    }\n",
              "\n",
              "    .dataframe tbody tr th {\n",
              "        vertical-align: top;\n",
              "    }\n",
              "\n",
              "    .dataframe thead th {\n",
              "        text-align: right;\n",
              "    }\n",
              "</style>\n",
              "<table border=\"1\" class=\"dataframe\">\n",
              "  <thead>\n",
              "    <tr style=\"text-align: right;\">\n",
              "      <th></th>\n",
              "      <th>Respondent</th>\n",
              "      <th>MainBranch</th>\n",
              "      <th>Hobbyist</th>\n",
              "      <th>OpenSourcer</th>\n",
              "      <th>OpenSource</th>\n",
              "      <th>Employment</th>\n",
              "      <th>Country</th>\n",
              "      <th>Student</th>\n",
              "      <th>EdLevel</th>\n",
              "      <th>UndergradMajor</th>\n",
              "      <th>...</th>\n",
              "      <th>SONewContent</th>\n",
              "      <th>Age</th>\n",
              "      <th>Gender</th>\n",
              "      <th>Trans</th>\n",
              "      <th>Sexuality</th>\n",
              "      <th>Ethnicity</th>\n",
              "      <th>Dependents</th>\n",
              "      <th>SurveyLength</th>\n",
              "      <th>SurveyEase</th>\n",
              "      <th>NormalizedAnnualCompensation</th>\n",
              "    </tr>\n",
              "  </thead>\n",
              "  <tbody>\n",
              "    <tr>\n",
              "      <th>0</th>\n",
              "      <td>4</td>\n",
              "      <td>I am a developer by profession</td>\n",
              "      <td>No</td>\n",
              "      <td>Never</td>\n",
              "      <td>The quality of OSS and closed source software ...</td>\n",
              "      <td>Employed full-time</td>\n",
              "      <td>United States</td>\n",
              "      <td>No</td>\n",
              "      <td>Bachelor’s degree (BA, BS, B.Eng., etc.)</td>\n",
              "      <td>Computer science, computer engineering, or sof...</td>\n",
              "      <td>...</td>\n",
              "      <td>Tech articles written by other developers;Indu...</td>\n",
              "      <td>22.0</td>\n",
              "      <td>Man</td>\n",
              "      <td>No</td>\n",
              "      <td>Straight / Heterosexual</td>\n",
              "      <td>White or of European descent</td>\n",
              "      <td>No</td>\n",
              "      <td>Appropriate in length</td>\n",
              "      <td>Easy</td>\n",
              "      <td>61000.0</td>\n",
              "    </tr>\n",
              "    <tr>\n",
              "      <th>1</th>\n",
              "      <td>9</td>\n",
              "      <td>I am a developer by profession</td>\n",
              "      <td>Yes</td>\n",
              "      <td>Once a month or more often</td>\n",
              "      <td>The quality of OSS and closed source software ...</td>\n",
              "      <td>Employed full-time</td>\n",
              "      <td>New Zealand</td>\n",
              "      <td>No</td>\n",
              "      <td>Some college/university study without earning ...</td>\n",
              "      <td>Computer science, computer engineering, or sof...</td>\n",
              "      <td>...</td>\n",
              "      <td>NaN</td>\n",
              "      <td>23.0</td>\n",
              "      <td>Man</td>\n",
              "      <td>No</td>\n",
              "      <td>Bisexual</td>\n",
              "      <td>White or of European descent</td>\n",
              "      <td>No</td>\n",
              "      <td>Appropriate in length</td>\n",
              "      <td>Neither easy nor difficult</td>\n",
              "      <td>138000.0</td>\n",
              "    </tr>\n",
              "    <tr>\n",
              "      <th>2</th>\n",
              "      <td>13</td>\n",
              "      <td>I am a developer by profession</td>\n",
              "      <td>Yes</td>\n",
              "      <td>Less than once a month but more than once per ...</td>\n",
              "      <td>OSS is, on average, of HIGHER quality than pro...</td>\n",
              "      <td>Employed full-time</td>\n",
              "      <td>United States</td>\n",
              "      <td>No</td>\n",
              "      <td>Master’s degree (MA, MS, M.Eng., MBA, etc.)</td>\n",
              "      <td>Computer science, computer engineering, or sof...</td>\n",
              "      <td>...</td>\n",
              "      <td>Tech articles written by other developers;Cour...</td>\n",
              "      <td>28.0</td>\n",
              "      <td>Man</td>\n",
              "      <td>No</td>\n",
              "      <td>Straight / Heterosexual</td>\n",
              "      <td>White or of European descent</td>\n",
              "      <td>Yes</td>\n",
              "      <td>Appropriate in length</td>\n",
              "      <td>Easy</td>\n",
              "      <td>90000.0</td>\n",
              "    </tr>\n",
              "    <tr>\n",
              "      <th>3</th>\n",
              "      <td>16</td>\n",
              "      <td>I am a developer by profession</td>\n",
              "      <td>Yes</td>\n",
              "      <td>Never</td>\n",
              "      <td>The quality of OSS and closed source software ...</td>\n",
              "      <td>Employed full-time</td>\n",
              "      <td>United Kingdom</td>\n",
              "      <td>No</td>\n",
              "      <td>Master’s degree (MA, MS, M.Eng., MBA, etc.)</td>\n",
              "      <td>NaN</td>\n",
              "      <td>...</td>\n",
              "      <td>Tech articles written by other developers;Indu...</td>\n",
              "      <td>26.0</td>\n",
              "      <td>Man</td>\n",
              "      <td>No</td>\n",
              "      <td>Straight / Heterosexual</td>\n",
              "      <td>White or of European descent</td>\n",
              "      <td>No</td>\n",
              "      <td>Appropriate in length</td>\n",
              "      <td>Neither easy nor difficult</td>\n",
              "      <td>348000.0</td>\n",
              "    </tr>\n",
              "    <tr>\n",
              "      <th>4</th>\n",
              "      <td>17</td>\n",
              "      <td>I am a developer by profession</td>\n",
              "      <td>Yes</td>\n",
              "      <td>Less than once a month but more than once per ...</td>\n",
              "      <td>The quality of OSS and closed source software ...</td>\n",
              "      <td>Employed full-time</td>\n",
              "      <td>Australia</td>\n",
              "      <td>No</td>\n",
              "      <td>Bachelor’s degree (BA, BS, B.Eng., etc.)</td>\n",
              "      <td>Computer science, computer engineering, or sof...</td>\n",
              "      <td>...</td>\n",
              "      <td>Tech articles written by other developers;Indu...</td>\n",
              "      <td>29.0</td>\n",
              "      <td>Man</td>\n",
              "      <td>No</td>\n",
              "      <td>Straight / Heterosexual</td>\n",
              "      <td>Hispanic or Latino/Latina;Multiracial</td>\n",
              "      <td>No</td>\n",
              "      <td>Appropriate in length</td>\n",
              "      <td>Easy</td>\n",
              "      <td>90000.0</td>\n",
              "    </tr>\n",
              "  </tbody>\n",
              "</table>\n",
              "<p>5 rows × 86 columns</p>\n",
              "</div>\n",
              "    <div class=\"colab-df-buttons\">\n",
              "\n",
              "  <div class=\"colab-df-container\">\n",
              "    <button class=\"colab-df-convert\" onclick=\"convertToInteractive('df-6acf2ce7-9581-49f4-b887-d917e4d9ca23')\"\n",
              "            title=\"Convert this dataframe to an interactive table.\"\n",
              "            style=\"display:none;\">\n",
              "\n",
              "  <svg xmlns=\"http://www.w3.org/2000/svg\" height=\"24px\" viewBox=\"0 -960 960 960\">\n",
              "    <path d=\"M120-120v-720h720v720H120Zm60-500h600v-160H180v160Zm220 220h160v-160H400v160Zm0 220h160v-160H400v160ZM180-400h160v-160H180v160Zm440 0h160v-160H620v160ZM180-180h160v-160H180v160Zm440 0h160v-160H620v160Z\"/>\n",
              "  </svg>\n",
              "    </button>\n",
              "\n",
              "  <style>\n",
              "    .colab-df-container {\n",
              "      display:flex;\n",
              "      gap: 12px;\n",
              "    }\n",
              "\n",
              "    .colab-df-convert {\n",
              "      background-color: #E8F0FE;\n",
              "      border: none;\n",
              "      border-radius: 50%;\n",
              "      cursor: pointer;\n",
              "      display: none;\n",
              "      fill: #1967D2;\n",
              "      height: 32px;\n",
              "      padding: 0 0 0 0;\n",
              "      width: 32px;\n",
              "    }\n",
              "\n",
              "    .colab-df-convert:hover {\n",
              "      background-color: #E2EBFA;\n",
              "      box-shadow: 0px 1px 2px rgba(60, 64, 67, 0.3), 0px 1px 3px 1px rgba(60, 64, 67, 0.15);\n",
              "      fill: #174EA6;\n",
              "    }\n",
              "\n",
              "    .colab-df-buttons div {\n",
              "      margin-bottom: 4px;\n",
              "    }\n",
              "\n",
              "    [theme=dark] .colab-df-convert {\n",
              "      background-color: #3B4455;\n",
              "      fill: #D2E3FC;\n",
              "    }\n",
              "\n",
              "    [theme=dark] .colab-df-convert:hover {\n",
              "      background-color: #434B5C;\n",
              "      box-shadow: 0px 1px 3px 1px rgba(0, 0, 0, 0.15);\n",
              "      filter: drop-shadow(0px 1px 2px rgba(0, 0, 0, 0.3));\n",
              "      fill: #FFFFFF;\n",
              "    }\n",
              "  </style>\n",
              "\n",
              "    <script>\n",
              "      const buttonEl =\n",
              "        document.querySelector('#df-6acf2ce7-9581-49f4-b887-d917e4d9ca23 button.colab-df-convert');\n",
              "      buttonEl.style.display =\n",
              "        google.colab.kernel.accessAllowed ? 'block' : 'none';\n",
              "\n",
              "      async function convertToInteractive(key) {\n",
              "        const element = document.querySelector('#df-6acf2ce7-9581-49f4-b887-d917e4d9ca23');\n",
              "        const dataTable =\n",
              "          await google.colab.kernel.invokeFunction('convertToInteractive',\n",
              "                                                    [key], {});\n",
              "        if (!dataTable) return;\n",
              "\n",
              "        const docLinkHtml = 'Like what you see? Visit the ' +\n",
              "          '<a target=\"_blank\" href=https://colab.research.google.com/notebooks/data_table.ipynb>data table notebook</a>'\n",
              "          + ' to learn more about interactive tables.';\n",
              "        element.innerHTML = '';\n",
              "        dataTable['output_type'] = 'display_data';\n",
              "        await google.colab.output.renderOutput(dataTable, element);\n",
              "        const docLink = document.createElement('div');\n",
              "        docLink.innerHTML = docLinkHtml;\n",
              "        element.appendChild(docLink);\n",
              "      }\n",
              "    </script>\n",
              "  </div>\n",
              "\n",
              "\n",
              "<div id=\"df-1482ef14-11e6-4d24-9b51-171c3474f52c\">\n",
              "  <button class=\"colab-df-quickchart\" onclick=\"quickchart('df-1482ef14-11e6-4d24-9b51-171c3474f52c')\"\n",
              "            title=\"Suggest charts\"\n",
              "            style=\"display:none;\">\n",
              "\n",
              "<svg xmlns=\"http://www.w3.org/2000/svg\" height=\"24px\"viewBox=\"0 0 24 24\"\n",
              "     width=\"24px\">\n",
              "    <g>\n",
              "        <path d=\"M19 3H5c-1.1 0-2 .9-2 2v14c0 1.1.9 2 2 2h14c1.1 0 2-.9 2-2V5c0-1.1-.9-2-2-2zM9 17H7v-7h2v7zm4 0h-2V7h2v10zm4 0h-2v-4h2v4z\"/>\n",
              "    </g>\n",
              "</svg>\n",
              "  </button>\n",
              "\n",
              "<style>\n",
              "  .colab-df-quickchart {\n",
              "      --bg-color: #E8F0FE;\n",
              "      --fill-color: #1967D2;\n",
              "      --hover-bg-color: #E2EBFA;\n",
              "      --hover-fill-color: #174EA6;\n",
              "      --disabled-fill-color: #AAA;\n",
              "      --disabled-bg-color: #DDD;\n",
              "  }\n",
              "\n",
              "  [theme=dark] .colab-df-quickchart {\n",
              "      --bg-color: #3B4455;\n",
              "      --fill-color: #D2E3FC;\n",
              "      --hover-bg-color: #434B5C;\n",
              "      --hover-fill-color: #FFFFFF;\n",
              "      --disabled-bg-color: #3B4455;\n",
              "      --disabled-fill-color: #666;\n",
              "  }\n",
              "\n",
              "  .colab-df-quickchart {\n",
              "    background-color: var(--bg-color);\n",
              "    border: none;\n",
              "    border-radius: 50%;\n",
              "    cursor: pointer;\n",
              "    display: none;\n",
              "    fill: var(--fill-color);\n",
              "    height: 32px;\n",
              "    padding: 0;\n",
              "    width: 32px;\n",
              "  }\n",
              "\n",
              "  .colab-df-quickchart:hover {\n",
              "    background-color: var(--hover-bg-color);\n",
              "    box-shadow: 0 1px 2px rgba(60, 64, 67, 0.3), 0 1px 3px 1px rgba(60, 64, 67, 0.15);\n",
              "    fill: var(--button-hover-fill-color);\n",
              "  }\n",
              "\n",
              "  .colab-df-quickchart-complete:disabled,\n",
              "  .colab-df-quickchart-complete:disabled:hover {\n",
              "    background-color: var(--disabled-bg-color);\n",
              "    fill: var(--disabled-fill-color);\n",
              "    box-shadow: none;\n",
              "  }\n",
              "\n",
              "  .colab-df-spinner {\n",
              "    border: 2px solid var(--fill-color);\n",
              "    border-color: transparent;\n",
              "    border-bottom-color: var(--fill-color);\n",
              "    animation:\n",
              "      spin 1s steps(1) infinite;\n",
              "  }\n",
              "\n",
              "  @keyframes spin {\n",
              "    0% {\n",
              "      border-color: transparent;\n",
              "      border-bottom-color: var(--fill-color);\n",
              "      border-left-color: var(--fill-color);\n",
              "    }\n",
              "    20% {\n",
              "      border-color: transparent;\n",
              "      border-left-color: var(--fill-color);\n",
              "      border-top-color: var(--fill-color);\n",
              "    }\n",
              "    30% {\n",
              "      border-color: transparent;\n",
              "      border-left-color: var(--fill-color);\n",
              "      border-top-color: var(--fill-color);\n",
              "      border-right-color: var(--fill-color);\n",
              "    }\n",
              "    40% {\n",
              "      border-color: transparent;\n",
              "      border-right-color: var(--fill-color);\n",
              "      border-top-color: var(--fill-color);\n",
              "    }\n",
              "    60% {\n",
              "      border-color: transparent;\n",
              "      border-right-color: var(--fill-color);\n",
              "    }\n",
              "    80% {\n",
              "      border-color: transparent;\n",
              "      border-right-color: var(--fill-color);\n",
              "      border-bottom-color: var(--fill-color);\n",
              "    }\n",
              "    90% {\n",
              "      border-color: transparent;\n",
              "      border-bottom-color: var(--fill-color);\n",
              "    }\n",
              "  }\n",
              "</style>\n",
              "\n",
              "  <script>\n",
              "    async function quickchart(key) {\n",
              "      const quickchartButtonEl =\n",
              "        document.querySelector('#' + key + ' button');\n",
              "      quickchartButtonEl.disabled = true;  // To prevent multiple clicks.\n",
              "      quickchartButtonEl.classList.add('colab-df-spinner');\n",
              "      try {\n",
              "        const charts = await google.colab.kernel.invokeFunction(\n",
              "            'suggestCharts', [key], {});\n",
              "      } catch (error) {\n",
              "        console.error('Error during call to suggestCharts:', error);\n",
              "      }\n",
              "      quickchartButtonEl.classList.remove('colab-df-spinner');\n",
              "      quickchartButtonEl.classList.add('colab-df-quickchart-complete');\n",
              "    }\n",
              "    (() => {\n",
              "      let quickchartButtonEl =\n",
              "        document.querySelector('#df-1482ef14-11e6-4d24-9b51-171c3474f52c button');\n",
              "      quickchartButtonEl.style.display =\n",
              "        google.colab.kernel.accessAllowed ? 'block' : 'none';\n",
              "    })();\n",
              "  </script>\n",
              "</div>\n",
              "\n",
              "    </div>\n",
              "  </div>\n"
            ],
            "application/vnd.google.colaboratory.intrinsic+json": {
              "type": "dataframe",
              "variable_name": "df"
            }
          },
          "metadata": {},
          "execution_count": 16
        }
      ]
    },
    {
      "cell_type": "code",
      "source": [
        "\n",
        "#How many unique values are there in the CompFreq column?\n",
        "# Find the number of unique values in the 'CompFreq' column\n",
        "unique_compfreq = df['CompFreq'].nunique()\n",
        "print(f\"There are {unique_compfreq} unique values in the 'CompFreq' column.\")"
      ],
      "metadata": {
        "colab": {
          "base_uri": "https://localhost:8080/"
        },
        "id": "iRPO1QciwKVo",
        "outputId": "dc8e82a7-936a-4d1c-e9ec-832adb224b45"
      },
      "execution_count": 25,
      "outputs": [
        {
          "output_type": "stream",
          "name": "stdout",
          "text": [
            "There are 3 unique values in the 'CompFreq' column.\n"
          ]
        }
      ]
    },
    {
      "cell_type": "code",
      "source": [
        "\n",
        "#After removing the duplicate rows, how many respondents are being paid yearly?\n",
        "# Remove duplicate rows\n",
        "df_cleaned = df.drop_duplicates()\n",
        "\n",
        "# Count the number of respondents who are being paid yearly\n",
        "yearly_paid_count = df_cleaned[df_cleaned['CompFreq'] == 'Yearly'].shape[0]\n",
        "\n",
        "print(f\"The number of respondents being paid yearly is: {yearly_paid_count}\")"
      ],
      "metadata": {
        "colab": {
          "base_uri": "https://localhost:8080/"
        },
        "id": "Gv6g5KXsxSPO",
        "outputId": "ad65c9c0-02a2-4fe3-8a89-09a4f5b6ad13"
      },
      "execution_count": 26,
      "outputs": [
        {
          "output_type": "stream",
          "name": "stdout",
          "text": [
            "The number of respondents being paid yearly is: 6073\n"
          ]
        }
      ]
    },
    {
      "cell_type": "code",
      "source": [
        "#What is the median NormalizedAnnualCompensation?\n",
        "# Create the 'NormalizedAnnualCompensation' column\n",
        "df_cleaned['NormalizedAnnualCompensation'] = df_cleaned.apply(\n",
        "    lambda row: row['CompTotal'] if row['CompFreq'] == 'Yearly'\n",
        "    else row['CompTotal'] * 12 if row['CompFreq'] == 'Monthly'\n",
        "    else row['CompTotal'] * 52 if row['CompFreq'] == 'Weekly'\n",
        "    else None, axis=1\n",
        ")"
      ],
      "metadata": {
        "id": "kz3_-hISxijg"
      },
      "execution_count": 27,
      "outputs": []
    },
    {
      "cell_type": "code",
      "source": [
        "# Calculate the median of the 'NormalizedAnnualCompensation' column\n",
        "median_compensation = df_cleaned['NormalizedAnnualCompensation'].median()\n",
        "print(f\"The median of NormalizedAnnualCompensation is: {median_compensation}\")"
      ],
      "metadata": {
        "colab": {
          "base_uri": "https://localhost:8080/"
        },
        "id": "5ohSsoTLxqI4",
        "outputId": "954d6261-2e59-4a5e-c8f1-830cd19bc656"
      },
      "execution_count": 28,
      "outputs": [
        {
          "output_type": "stream",
          "name": "stdout",
          "text": [
            "The median of NormalizedAnnualCompensation is: 100000.0\n"
          ]
        }
      ]
    },
    {
      "cell_type": "markdown",
      "metadata": {
        "id": "4ct_4530cjHE"
      },
      "source": [
        "## Authors\n"
      ]
    },
    {
      "cell_type": "markdown",
      "metadata": {
        "id": "Qz3HC0sncjHF"
      },
      "source": [
        "Ramesh Sannareddy\n"
      ]
    },
    {
      "cell_type": "markdown",
      "metadata": {
        "id": "CSJ7RzUTcjHF"
      },
      "source": [
        "### Other Contributors\n"
      ]
    },
    {
      "cell_type": "markdown",
      "metadata": {
        "id": "s0yluHw8cjHF"
      },
      "source": [
        "Rav Ahuja\n"
      ]
    },
    {
      "cell_type": "markdown",
      "metadata": {
        "id": "3M4B7qU7cjHF"
      },
      "source": [
        "## Change Log\n"
      ]
    },
    {
      "cell_type": "markdown",
      "metadata": {
        "id": "YUHuKLk4cjHG"
      },
      "source": [
        "| Date (YYYY-MM-DD) | Version | Changed By        | Change Description                 |\n",
        "| ----------------- | ------- | ----------------- | ---------------------------------- |\n",
        "| 2020-10-17        | 0.1     | Ramesh Sannareddy | Created initial version of the lab |\n"
      ]
    },
    {
      "cell_type": "markdown",
      "metadata": {
        "id": "v4qZd4tAcjHG"
      },
      "source": [
        " Copyright © 2020 IBM Corporation. This notebook and its source code are released under the terms of the [MIT License](https://cognitiveclass.ai/mit-license?utm_medium=Exinfluencer&utm_source=Exinfluencer&utm_content=000026UJ&utm_term=10006555&utm_id=NA-SkillsNetwork-Channel-SkillsNetworkCoursesIBMDA0321ENSkillsNetwork928-2022-01-01&cm_mmc=Email_Newsletter-_-Developer_Ed%2BTech-_-WW_WW-_-SkillsNetwork-Courses-IBM-DA0321EN-SkillsNetwork-21426264&cm_mmca1=000026UJ&cm_mmca2=10006555&cm_mmca3=M12345678&cvosrc=email.Newsletter.M12345678&cvo_campaign=000026UJ).\n"
      ]
    }
  ],
  "metadata": {
    "kernelspec": {
      "display_name": "Python",
      "language": "python",
      "name": "conda-env-python-py"
    },
    "language_info": {
      "name": ""
    },
    "colab": {
      "provenance": []
    }
  },
  "nbformat": 4,
  "nbformat_minor": 0
}